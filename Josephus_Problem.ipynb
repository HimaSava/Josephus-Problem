{
  "nbformat": 4,
  "nbformat_minor": 0,
  "metadata": {
    "colab": {
      "name": "Josephus Problem.ipynb",
      "provenance": [],
      "authorship_tag": "ABX9TyNo5YIzn6cV/Bo+ILvbeSqD",
      "include_colab_link": true
    },
    "kernelspec": {
      "name": "python3",
      "display_name": "Python 3"
    },
    "language_info": {
      "name": "python"
    }
  },
  "cells": [
    {
      "cell_type": "markdown",
      "metadata": {
        "id": "view-in-github",
        "colab_type": "text"
      },
      "source": [
        "<a href=\"https://colab.research.google.com/github/HimaSava/Josephus-Problem/blob/main/Josephus_Problem.ipynb\" target=\"_parent\"><img src=\"https://colab.research.google.com/assets/colab-badge.svg\" alt=\"Open In Colab\"/></a>"
      ]
    },
    {
      "cell_type": "code",
      "metadata": {
        "colab": {
          "base_uri": "https://localhost:8080/"
        },
        "id": "LfHGRBSrCpiG",
        "outputId": "363feab4-fad1-4331-8a5e-66520c40335a"
      },
      "source": [
        "import numpy as np\n",
        "\n",
        "n = 19\n",
        "x = np.arange(1,n+1)\n",
        "print(x)\n"
      ],
      "execution_count": 121,
      "outputs": [
        {
          "output_type": "stream",
          "text": [
            "[ 1  2  3  4  5  6  7  8  9 10 11 12 13 14 15 16 17 18 19]\n"
          ],
          "name": "stdout"
        }
      ]
    },
    {
      "cell_type": "code",
      "metadata": {
        "colab": {
          "base_uri": "https://localhost:8080/"
        },
        "id": "iwZhoZzGD3Xr",
        "outputId": "75962997-b953-4916-b2c9-f06227dea0b1"
      },
      "source": [
        "while np.size(x)>=1:\n",
        "  for i in range(n):\n",
        "    if(np.size(x)==0):\n",
        "      break\n",
        "    print(x)\n",
        "    print(\"The killer: \" , x[i])\n",
        "    \n",
        "    #print(i)\n",
        "    #print(n)\n",
        "    if(i==n-1):\n",
        "      print(\"The person killed\" , x[0])\n",
        "      x = np.delete(x,0)\n",
        "      n-=1\n",
        "      break  \n",
        "    else:\n",
        "      print(\"The person killed:\" , x[i+1])\n",
        "      print()\n",
        "      x = np.delete(x,i+1)\n",
        "      n-=1\n",
        "      if(i==n-1):\n",
        "        break\n",
        "    \n",
        "\n",
        "  "
      ],
      "execution_count": 122,
      "outputs": [
        {
          "output_type": "stream",
          "text": [
            "[ 1  2  3  4  5  6  7  8  9 10 11 12 13 14 15 16 17 18 19]\n",
            "The killer:  1\n",
            "The person killed 2\n",
            "\n",
            "[ 1  3  4  5  6  7  8  9 10 11 12 13 14 15 16 17 18 19]\n",
            "The killer:  3\n",
            "The person killed 4\n",
            "\n",
            "[ 1  3  5  6  7  8  9 10 11 12 13 14 15 16 17 18 19]\n",
            "The killer:  5\n",
            "The person killed 6\n",
            "\n",
            "[ 1  3  5  7  8  9 10 11 12 13 14 15 16 17 18 19]\n",
            "The killer:  7\n",
            "The person killed 8\n",
            "\n",
            "[ 1  3  5  7  9 10 11 12 13 14 15 16 17 18 19]\n",
            "The killer:  9\n",
            "The person killed 10\n",
            "\n",
            "[ 1  3  5  7  9 11 12 13 14 15 16 17 18 19]\n",
            "The killer:  11\n",
            "The person killed 12\n",
            "\n",
            "[ 1  3  5  7  9 11 13 14 15 16 17 18 19]\n",
            "The killer:  13\n",
            "The person killed 14\n",
            "\n",
            "[ 1  3  5  7  9 11 13 15 16 17 18 19]\n",
            "The killer:  15\n",
            "The person killed 16\n",
            "\n",
            "[ 1  3  5  7  9 11 13 15 17 18 19]\n",
            "The killer:  17\n",
            "The person killed 18\n",
            "\n",
            "[ 1  3  5  7  9 11 13 15 17 19]\n",
            "The killer:  19\n",
            "The person killed 1\n",
            "[ 3  5  7  9 11 13 15 17 19]\n",
            "The killer:  3\n",
            "The person killed 5\n",
            "\n",
            "[ 3  7  9 11 13 15 17 19]\n",
            "The killer:  7\n",
            "The person killed 9\n",
            "\n",
            "[ 3  7 11 13 15 17 19]\n",
            "The killer:  11\n",
            "The person killed 13\n",
            "\n",
            "[ 3  7 11 15 17 19]\n",
            "The killer:  15\n",
            "The person killed 17\n",
            "\n",
            "[ 3  7 11 15 19]\n",
            "The killer:  19\n",
            "The person killed 3\n",
            "[ 7 11 15 19]\n",
            "The killer:  7\n",
            "The person killed 11\n",
            "\n",
            "[ 7 15 19]\n",
            "The killer:  15\n",
            "The person killed 19\n",
            "\n",
            "[ 7 15]\n",
            "The killer:  7\n",
            "The person killed 15\n",
            "\n",
            "[7]\n",
            "The killer:  7\n",
            "The person killed 7\n"
          ],
          "name": "stdout"
        }
      ]
    }
  ]
}